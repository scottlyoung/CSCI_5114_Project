{
 "cells": [
  {
   "cell_type": "code",
   "execution_count": 43,
   "metadata": {},
   "outputs": [],
   "source": [
    "import random\n",
    "\n",
    "def generateRandomData(num_points=10, dims=2, ranges=(-1,1), style='scatter'):\n",
    "    if style == 'scatter':\n",
    "        data = np.random.random((num_points, dims))*(ranges[1]-ranges[0])+ranges[0]\n",
    "    return data"
   ]
  },
  {
   "cell_type": "code",
   "execution_count": 44,
   "metadata": {},
   "outputs": [],
   "source": [
    "import sys\n",
    "import numpy as np\n",
    "import copy\n",
    "\n",
    "def computeScore(data, clusters):\n",
    "    cluster_nums = set(clusters)\n",
    "    score = 0\n",
    "    for i in cluster_nums:\n",
    "        if i != -1:\n",
    "            cluster = data[clusters == i]\n",
    "            mid = np.mean(cluster, 0)\n",
    "            score += np.sum((cluster - mid)**2)\n",
    "    #print((clusters,score))\n",
    "    return score\n",
    "            \n",
    "def exhuastiveSearch(data,k):\n",
    "    n = len(data)\n",
    "    current_try = np.array(n*[0])\n",
    "    best = (sys.float_info.max,None)\n",
    "    \n",
    "    done = False\n",
    "    while not done:\n",
    "        score = computeScore(data, current_try)\n",
    "        if score < best[0]:\n",
    "            best = (score, copy.copy(current_try))\n",
    "        i = 0\n",
    "        while True:\n",
    "            if i == n:\n",
    "                done = True\n",
    "                break\n",
    "            if current_try[i] == (k-1) or current_try[i] == i:\n",
    "                current_try[i] = 0\n",
    "                i += 1\n",
    "            else:\n",
    "                current_try[i] += 1\n",
    "                break\n",
    "        \n",
    "    return best"
   ]
  },
  {
   "cell_type": "code",
   "execution_count": null,
   "metadata": {},
   "outputs": [],
   "source": [
    "import queue\n",
    "\n",
    "def getIndexUnalloc(cluster):\n",
    "    n = len(cluster)\n",
    "    for i in range(n):\n",
    "        if cluster[i] == -1:\n",
    "            return i\n",
    "    return -1\n",
    "\n",
    "def scoreToInt(scoreStruct):\n",
    "    score = 0\n",
    "    for cluster in scoreStruct:\n",
    "        if cluster[1] != 0:\n",
    "            score += cluster[0]/cluster[1]\n",
    "    return score\n",
    "        \n",
    "def incrementScore(score, clusters, ind, new_cluster, dists, direction = 1):\n",
    "    for i in range(len(clusters)):\n",
    "        if clusters[i] == new_cluster:\n",
    "            score[new_cluster][0] += direction*dists[i,ind]\n",
    "    score[new_cluster][1] += direction*1\n",
    "    \n",
    "def calcEncapsulation(data):\n",
    "    pass\n",
    "\n",
    "def addToCluster(data,cluster,score,ind,clust,recompute_score):\n",
    "    clusterc = cluster.copy()\n",
    "    clusterc[ind] = clust\n",
    "    if recompute_score:\n",
    "        scorec = computeScore(data,clusterc)\n",
    "    else:\n",
    "        scorec = copy.deepcopy(score)\n",
    "        incrementScore(scorec, cluster, ind, clust, data)\n",
    "    return (clusterc, scorec)\n",
    "        \n",
    "def branchNBound(data,k,recompute_score = True, cap = None, encapsulate = False):\n",
    "    n,m = data.shape\n",
    "    if encapsulate == True:\n",
    "        encaps = calcEncapsulation(data)\n",
    "    if recompute_score == False:\n",
    "        data = np.sum((data.reshape((n,m,1))-np.transpose(data).reshape((1,m,n)))**2,axis=1)\n",
    "    q = queue.Queue()\n",
    "    #stack = []\n",
    "    inital = np.array(n*[-1])\n",
    "    if recompute_score:\n",
    "        score = 0\n",
    "    else:\n",
    "        score = k*[0]\n",
    "        for i in range(k):\n",
    "            score[i] = [0,0]\n",
    "    q.put((inital,score))\n",
    "    cap = float('inf')\n",
    "    best = (inital,float('inf'))\n",
    "    while not q.empty():\n",
    "        inp = q.get()\n",
    "        #print(inp)\n",
    "        cluster = inp[0]\n",
    "        score = inp[1]\n",
    "        ind = getIndexUnalloc(cluster)\n",
    "        if ind != -1:\n",
    "            for i in range(k):\n",
    "                #print(i)\n",
    "                ret = addToCluster(data,cluster,score,ind,i,recompute_score)\n",
    "                if recompute_score:\n",
    "                    if cap > ret[1]:\n",
    "                        q.put(ret)\n",
    "                else:\n",
    "                    if cap > scoreToInt(ret[1]):\n",
    "                        q.put(ret)\n",
    "                    else:\n",
    "                        print(\"abort\")\n",
    "        else:\n",
    "            if recompute_score:\n",
    "                scoref = score\n",
    "            else:\n",
    "                scoref = scoreToInt(score)\n",
    "            if scoref < best[1]:\n",
    "                best = (cluster,scoref)\n",
    "                print(best)\n",
    "            "
   ]
  },
  {
   "cell_type": "code",
   "execution_count": null,
   "metadata": {},
   "outputs": [],
   "source": [
    "import time\n",
    "t = time.process_time()\n",
    "branchNBound(d,3)\n",
    "print(time.process_time()-t)"
   ]
  },
  {
   "cell_type": "code",
   "execution_count": null,
   "metadata": {},
   "outputs": [],
   "source": [
    "t = time.process_time()\n",
    "branchNBound(d,3,recompute_score=False)\n",
    "print(time.process_time()-t)"
   ]
  },
  {
   "cell_type": "code",
   "execution_count": 63,
   "metadata": {},
   "outputs": [],
   "source": [
    "def hMeans(data, k):\n",
    "    n, d = data.shape\n",
    "    centers = data[np.random.randint(n, size=k)]\n",
    "    clusters = np.zeros(n)\n",
    "    clustersold = np.zeros(n)\n",
    "    while True:\n",
    "        valid = False\n",
    "        while not valid:\n",
    "            for i in range(n):\n",
    "                clustersold[i] = clusters[i]\n",
    "                clusters[i] = np.argmin(np.sum((centers - data[i])**2,1))\n",
    "            missing = False\n",
    "            for i in range(k):\n",
    "                if i not in clusters:\n",
    "                    centers[i] = data[np.random.randint(n)]\n",
    "                    missing = True\n",
    "            if not missing:\n",
    "                valid = True\n",
    "        if np.array_equal(clusters, clustersold):\n",
    "            return computeScore(data, clusters), clusters\n",
    "        for i in range(k):\n",
    "            centers[i] = np.mean(data[clusters == i],0)\n",
    "        \n",
    "            "
   ]
  },
  {
   "cell_type": "code",
   "execution_count": 64,
   "metadata": {},
   "outputs": [],
   "source": [
    "def kMeans(data, k, recompute_score = True):\n",
    "    n = len(data)\n",
    "    if recompute_score == False:\n",
    "        dists = np.sum((data.reshape((n,m,1))-np.transpose(data).reshape((1,m,n)))**2,axis=1)\n",
    "    clusters = np.random.randint(k, size=n)\n",
    "    clusters_try = clusters.copy()\n",
    "    if recomputeScore:\n",
    "        score = computeScore(data, clusters)\n",
    "    else:\n",
    "        work = n*[-1]\n",
    "        score = k*[0]\n",
    "        for i in range(k):\n",
    "            score[i] = (0,0)\n",
    "        for i in range(n):\n",
    "            score = incrementScore(score, clusters, ind, new_cluster, dists)\n",
    "    while True:\n",
    "        old_score = score\n",
    "        for i in range(n):\n",
    "            for j in range(k):\n",
    "                clusters_try[i] = j\n",
    "                score_try = computeScore(data, clusters_try) # change to compute score diffrence\n",
    "                if score_try < score:\n",
    "                    score = score_try\n",
    "                    clusters[i] = j\n",
    "                else:\n",
    "                    clusters_try[i] = clusters[i]\n",
    "        if score == old_score:\n",
    "            break\n",
    "    return score, clusters"
   ]
  },
  {
   "cell_type": "code",
   "execution_count": 242,
   "metadata": {},
   "outputs": [],
   "source": [
    "d = generateRandomData(num_points=10)"
   ]
  },
  {
   "cell_type": "code",
   "execution_count": 66,
   "metadata": {},
   "outputs": [
    {
     "data": {
      "text/plain": [
       "(2.4826124695376866, array([0., 1., 1., 0., 1., 1., 2., 2., 1., 0.]))"
      ]
     },
     "execution_count": 66,
     "metadata": {},
     "output_type": "execute_result"
    }
   ],
   "source": [
    "hMeans(d,3)"
   ]
  },
  {
   "cell_type": "code",
   "execution_count": 67,
   "metadata": {},
   "outputs": [
    {
     "data": {
      "text/plain": [
       "(1.6714624994920002, array([1, 1, 1, 0, 2, 1, 2, 0, 2, 0]))"
      ]
     },
     "execution_count": 67,
     "metadata": {},
     "output_type": "execute_result"
    }
   ],
   "source": [
    "kMeans(d,3)"
   ]
  },
  {
   "cell_type": "code",
   "execution_count": 57,
   "metadata": {},
   "outputs": [
    {
     "data": {
      "text/plain": [
       "4.624446289629638"
      ]
     },
     "execution_count": 57,
     "metadata": {},
     "output_type": "execute_result"
    }
   ],
   "source": [
    "computeScore(d, np.array([0, 2, 2, 0, 2, 2, 1, 0, 2, 1]))"
   ]
  },
  {
   "cell_type": "code",
   "execution_count": 70,
   "metadata": {},
   "outputs": [
    {
     "data": {
      "text/plain": [
       "(1.671462499492, array([0, 0, 0, 2, 1, 0, 1, 2, 1, 2]))"
      ]
     },
     "execution_count": 70,
     "metadata": {},
     "output_type": "execute_result"
    }
   ],
   "source": [
    "exhuastiveSearch(d,3)"
   ]
  },
  {
   "cell_type": "code",
   "execution_count": 103,
   "metadata": {},
   "outputs": [],
   "source": [
    "import time\n",
    "\n",
    "timeaprox = []\n",
    "timeexahust = []\n",
    "scoreaprox = []\n",
    "scoreexhaust = []\n",
    "sizes = [5,6,7,8]\n",
    "\n",
    "for s in sizes:\n",
    "    for i in range(100):\n",
    "        timeaproxtmp = []\n",
    "        timeexahusttmp = []\n",
    "        scoreaproxtmp = []\n",
    "        scoreexhausttmp = []\n",
    "        d = generateRandomData(s)\n",
    "        \n",
    "        t = time.process_time()\n",
    "        res = kMeans(d,3)\n",
    "        timeaproxtmp.append(time.process_time()-t)\n",
    "        scoreaproxtmp.append(res[0])\n",
    "        \n",
    "        t = time.process_time()\n",
    "        res = exhuastiveSearch(d,3)\n",
    "        timeexahusttmp.append(time.process_time()-t)\n",
    "        scoreexhausttmp.append(res[0])\n",
    "    \n",
    "    timeaprox.append(timeaproxtmp)\n",
    "    timeexahust.append(timeexahusttmp)\n",
    "    scoreaprox.append(scoreaproxtmp)\n",
    "    scoreexhaust.append(scoreexhausttmp)"
   ]
  },
  {
   "cell_type": "code",
   "execution_count": 104,
   "metadata": {},
   "outputs": [
    {
     "data": {
      "text/plain": [
       "[[0.0], [0.0], [0.0], [0.0]]"
      ]
     },
     "execution_count": 104,
     "metadata": {},
     "output_type": "execute_result"
    }
   ],
   "source": [
    "timeaprox"
   ]
  },
  {
   "cell_type": "code",
   "execution_count": null,
   "metadata": {},
   "outputs": [],
   "source": []
  }
 ],
 "metadata": {
  "kernelspec": {
   "display_name": "Python 3",
   "language": "python",
   "name": "python3"
  },
  "language_info": {
   "codemirror_mode": {
    "name": "ipython",
    "version": 3
   },
   "file_extension": ".py",
   "mimetype": "text/x-python",
   "name": "python",
   "nbconvert_exporter": "python",
   "pygments_lexer": "ipython3",
   "version": "3.7.1"
  }
 },
 "nbformat": 4,
 "nbformat_minor": 2
}
