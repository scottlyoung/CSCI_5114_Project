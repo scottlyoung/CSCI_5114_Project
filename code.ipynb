{
 "cells": [
  {
   "cell_type": "code",
   "execution_count": 11,
   "metadata": {},
   "outputs": [],
   "source": [
    "import random\n",
    "\n",
    "def generateRandomData(num_points=100, dims=2, ranges=(-1,1), style='scatter'):\n",
    "    if style == 'scatter':\n",
    "        data = num_points*[None]\n",
    "        for i in range(num_points):\n",
    "            point = dims*[None]\n",
    "            for j in range(dims):\n",
    "                point[j] = random.uniform(ranges[0],ranges[1])\n",
    "            data[i] = point\n",
    "        return data"
   ]
  },
  {
   "cell_type": "code",
   "execution_count": null,
   "metadata": {},
   "outputs": [],
   "source": []
  }
 ],
 "metadata": {
  "kernelspec": {
   "display_name": "Python 3",
   "language": "python",
   "name": "python3"
  },
  "language_info": {
   "codemirror_mode": {
    "name": "ipython",
    "version": 3
   },
   "file_extension": ".py",
   "mimetype": "text/x-python",
   "name": "python",
   "nbconvert_exporter": "python",
   "pygments_lexer": "ipython3",
   "version": "3.7.1"
  }
 },
 "nbformat": 4,
 "nbformat_minor": 2
}
