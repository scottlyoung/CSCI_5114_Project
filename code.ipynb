{
 "cells": [
  {
   "cell_type": "code",
   "execution_count": 2,
   "metadata": {},
   "outputs": [],
   "source": [
    "import random\n",
    "\n",
    "def generateRandomData(num_points=10, dims=2, ranges=(-1,1), style='scatter'):\n",
    "    if style == 'scatter':\n",
    "        data = np.random.random((num_points, dims))*(ranges[1]-ranges[0])+ranges[0]\n",
    "    return data"
   ]
  },
  {
   "cell_type": "code",
   "execution_count": 3,
   "metadata": {},
   "outputs": [],
   "source": [
    "import sys\n",
    "import numpy as np\n",
    "import copy\n",
    "\n",
    "def computeScore(data, clusters):\n",
    "    cluster_nums = set(clusters)\n",
    "    score = 0\n",
    "    for i in cluster_nums:\n",
    "        cluster = data[clusters == i]\n",
    "        mid = np.mean(cluster, 0)\n",
    "        score += np.sum((cluster - mid)**2)\n",
    "    #print((clusters,score))\n",
    "    return score\n",
    "            \n",
    "def exhuastiveSearch(data,k):\n",
    "    n = len(data)\n",
    "    current_try = np.array(n*[0])\n",
    "    best = (sys.float_info.max,None)\n",
    "    \n",
    "    done = False\n",
    "    while not done:\n",
    "        score = computeScore(data, current_try)\n",
    "        if score < best[0]:\n",
    "            best = (score, copy.copy(current_try))\n",
    "        i = 0\n",
    "        while True:\n",
    "            if i == n:\n",
    "                done = True\n",
    "                break\n",
    "            if current_try[i] == (k-1) or current_try[i] == i:\n",
    "                current_try[i] = 0\n",
    "                i += 1\n",
    "            else:\n",
    "                current_try[i] += 1\n",
    "                break\n",
    "        \n",
    "    return best"
   ]
  },
  {
   "cell_type": "code",
   "execution_count": 4,
   "metadata": {},
   "outputs": [],
   "source": [
    "def hMeans(data, k):\n",
    "    n, d = data.shape\n",
    "    centers = data[np.random.randint(n, size=k)]\n",
    "    clusters = np.zeros(n)\n",
    "    clustersold = np.zeros(n)\n",
    "    while True:\n",
    "        valid = False\n",
    "        while not valid:\n",
    "            for i in range(n):\n",
    "                clustersold[i] = clusters[i]\n",
    "                clusters[i] = np.argmin(np.sum((centers - data[i])**2,1))\n",
    "            missing = False\n",
    "            for i in range(k):\n",
    "                if i not in clusters:\n",
    "                    centers[i] = data[np.random.randint(n)]\n",
    "                    missing = True\n",
    "            if not missing:\n",
    "                valid = True\n",
    "        if np.array_equal(clusters, clustersold):\n",
    "            return computeScore(data, clusters), clusters\n",
    "        for i in range(k):\n",
    "            centers[i] = np.mean(data[clusters == i],0)\n",
    "        \n",
    "            "
   ]
  },
  {
   "cell_type": "code",
   "execution_count": 46,
   "metadata": {},
   "outputs": [],
   "source": [
    "def kMeans(data, k):\n",
    "    n = len(data)\n",
    "    clusters = np.random.randint(k, size=n)\n",
    "    clusters_try = clusters.copy()\n",
    "    score = computeScore(data, clusters)\n",
    "    while True:\n",
    "        old_score = score\n",
    "        for i in range(n):\n",
    "            for j in range(k):\n",
    "                clusters_try[i] = j\n",
    "                score_try = computeScore(data, clusters_try) # change to compute score diffrence\n",
    "                if score_try < score:\n",
    "                    score = score_try\n",
    "                    clusters[i] = j\n",
    "                else:\n",
    "                    clusters_try[i] = clusters[i]\n",
    "        if score == old_score:\n",
    "            break\n",
    "    return score, clusters"
   ]
  },
  {
   "cell_type": "code",
   "execution_count": 47,
   "metadata": {},
   "outputs": [],
   "source": [
    "d = generateRandomData()"
   ]
  },
  {
   "cell_type": "code",
   "execution_count": 48,
   "metadata": {},
   "outputs": [
    {
     "data": {
      "text/plain": [
       "(1.6500355597106484, array([2., 1., 0., 2., 1., 0., 2., 2., 1., 2.]))"
      ]
     },
     "execution_count": 48,
     "metadata": {},
     "output_type": "execute_result"
    }
   ],
   "source": [
    "hMeans(d,3)"
   ]
  },
  {
   "cell_type": "code",
   "execution_count": 49,
   "metadata": {},
   "outputs": [
    {
     "data": {
      "text/plain": [
       "(1.0851164154004769, array([0, 2, 2, 0, 2, 2, 1, 0, 2, 1]))"
      ]
     },
     "execution_count": 49,
     "metadata": {},
     "output_type": "execute_result"
    }
   ],
   "source": [
    "kMeans(d,3)"
   ]
  },
  {
   "cell_type": "code",
   "execution_count": 52,
   "metadata": {},
   "outputs": [
    {
     "data": {
      "text/plain": [
       "1.0851164154004769"
      ]
     },
     "execution_count": 52,
     "metadata": {},
     "output_type": "execute_result"
    }
   ],
   "source": [
    "computeScore(d, np.array([0, 2, 2, 0, 2, 2, 1, 0, 2, 1]))"
   ]
  },
  {
   "cell_type": "code",
   "execution_count": 53,
   "metadata": {},
   "outputs": [
    {
     "data": {
      "text/plain": [
       "(1.085116415400477, array([0, 1, 1, 0, 1, 1, 2, 0, 1, 2]))"
      ]
     },
     "execution_count": 53,
     "metadata": {},
     "output_type": "execute_result"
    }
   ],
   "source": [
    "exhuastiveSearch(d,3)"
   ]
  },
  {
   "cell_type": "code",
   "execution_count": 103,
   "metadata": {},
   "outputs": [],
   "source": [
    "import time\n",
    "\n",
    "timeaprox = []\n",
    "timeexahust = []\n",
    "scoreaprox = []\n",
    "scoreexhaust = []\n",
    "sizes = [5,6,7,8]\n",
    "\n",
    "for s in sizes:\n",
    "    for i in range(100):\n",
    "        timeaproxtmp = []\n",
    "        timeexahusttmp = []\n",
    "        scoreaproxtmp = []\n",
    "        scoreexhausttmp = []\n",
    "        d = generateRandomData(s)\n",
    "        \n",
    "        t = time.process_time()\n",
    "        res = kMeans(d,3)\n",
    "        timeaproxtmp.append(time.process_time()-t)\n",
    "        scoreaproxtmp.append(res[0])\n",
    "        \n",
    "        t = time.process_time()\n",
    "        res = exhuastiveSearch(d,3)\n",
    "        timeexahusttmp.append(time.process_time()-t)\n",
    "        scoreexhausttmp.append(res[0])\n",
    "    \n",
    "    timeaprox.append(timeaproxtmp)\n",
    "    timeexahust.append(timeexahusttmp)\n",
    "    scoreaprox.append(scoreaproxtmp)\n",
    "    scoreexhaust.append(scoreexhausttmp)"
   ]
  },
  {
   "cell_type": "code",
   "execution_count": 104,
   "metadata": {},
   "outputs": [
    {
     "data": {
      "text/plain": [
       "[[0.0], [0.0], [0.0], [0.0]]"
      ]
     },
     "execution_count": 104,
     "metadata": {},
     "output_type": "execute_result"
    }
   ],
   "source": [
    "timeaprox"
   ]
  },
  {
   "cell_type": "code",
   "execution_count": null,
   "metadata": {},
   "outputs": [],
   "source": []
  }
 ],
 "metadata": {
  "kernelspec": {
   "display_name": "Python 3",
   "language": "python",
   "name": "python3"
  },
  "language_info": {
   "codemirror_mode": {
    "name": "ipython",
    "version": 3
   },
   "file_extension": ".py",
   "mimetype": "text/x-python",
   "name": "python",
   "nbconvert_exporter": "python",
   "pygments_lexer": "ipython3",
   "version": "3.7.1"
  }
 },
 "nbformat": 4,
 "nbformat_minor": 2
}
